{
 "cells": [
  {
   "cell_type": "code",
   "execution_count": 216,
   "metadata": {},
   "outputs": [],
   "source": [
    "import pandas as pd\n",
    "import numpy as np\n",
    "import matplotlib.pyplot as plt\n",
    "%matplotlib inline\n",
    "import seaborn as sns\n",
    "import os\n",
    "import pickle\n",
    "import datetime as dt\n",
    "from datetime import datetime\n",
    "from datetime import timedelta\n",
    "from pytz import timezone\n",
    "import pytz\n",
    "from pytz import all_timezones\n",
    "import pickle"
   ]
  },
  {
   "cell_type": "code",
   "execution_count": 217,
   "metadata": {},
   "outputs": [],
   "source": [
    "path=\"C:\\\\Users\\\\11147\\\\Desktop\\\\Sanket_backup\\\\Mhack\\\\\""
   ]
  },
  {
   "cell_type": "code",
   "execution_count": 218,
   "metadata": {},
   "outputs": [],
   "source": [
    "df=pd.read_parquet(r\"C:\\Users\\11147\\Desktop\\Sanket_backup\\Mhack\\drive\\drive_1557398801351_trip_1557398302922_part-00000-tid-4787120893022696848-4897608f-5b93-42b5-a8ab-e90f5cadf0bf-1853-c000.snappy.parquet\",engine=\"pyarrow\")"
   ]
  },
  {
   "cell_type": "code",
   "execution_count": 219,
   "metadata": {},
   "outputs": [
    {
     "data": {
      "text/plain": [
       "['vehicle_id',\n",
       " 'trip_id',\n",
       " 'datetime',\n",
       " 'velocity',\n",
       " 'accel_x',\n",
       " 'accel_y',\n",
       " 'accel_z',\n",
       " 'engine_coolant_temp',\n",
       " 'eng_load',\n",
       " 'fuel_level',\n",
       " 'iat',\n",
       " 'rpm']"
      ]
     },
     "execution_count": 219,
     "metadata": {},
     "output_type": "execute_result"
    }
   ],
   "source": [
    "drive_col=df.columns.tolist()\n",
    "drive_col"
   ]
  },
  {
   "cell_type": "code",
   "execution_count": 220,
   "metadata": {},
   "outputs": [],
   "source": [
    "df_drive=pd.DataFrame(columns=drive_col)"
   ]
  },
  {
   "cell_type": "code",
   "execution_count": 221,
   "metadata": {},
   "outputs": [],
   "source": [
    "for j in os.listdir(path + \"drive\"):\n",
    "    df=pd.read_parquet(path+\"drive\"+ \"\\\\\" +str(j),engine=\"pyarrow\")\n",
    "    df_drive=pd.concat([df_drive,df],ignore_index=True)"
   ]
  },
  {
   "cell_type": "code",
   "execution_count": 222,
   "metadata": {},
   "outputs": [
    {
     "data": {
      "text/plain": [
       "(9217528, 12)"
      ]
     },
     "execution_count": 222,
     "metadata": {},
     "output_type": "execute_result"
    }
   ],
   "source": [
    "df_drive.shape"
   ]
  },
  {
   "cell_type": "code",
   "execution_count": 223,
   "metadata": {},
   "outputs": [
    {
     "data": {
      "text/html": [
       "<div>\n",
       "<style scoped>\n",
       "    .dataframe tbody tr th:only-of-type {\n",
       "        vertical-align: middle;\n",
       "    }\n",
       "\n",
       "    .dataframe tbody tr th {\n",
       "        vertical-align: top;\n",
       "    }\n",
       "\n",
       "    .dataframe thead th {\n",
       "        text-align: right;\n",
       "    }\n",
       "</style>\n",
       "<table border=\"1\" class=\"dataframe\">\n",
       "  <thead>\n",
       "    <tr style=\"text-align: right;\">\n",
       "      <th></th>\n",
       "      <th>vehicle_id</th>\n",
       "      <th>trip_id</th>\n",
       "      <th>datetime</th>\n",
       "      <th>velocity</th>\n",
       "      <th>accel_x</th>\n",
       "      <th>accel_y</th>\n",
       "      <th>accel_z</th>\n",
       "      <th>engine_coolant_temp</th>\n",
       "      <th>eng_load</th>\n",
       "      <th>fuel_level</th>\n",
       "      <th>iat</th>\n",
       "      <th>rpm</th>\n",
       "    </tr>\n",
       "  </thead>\n",
       "  <tbody>\n",
       "    <tr>\n",
       "      <th>0</th>\n",
       "      <td>1000515</td>\n",
       "      <td>db3c08b01205459294bbc91e3f7dfeb6</td>\n",
       "      <td>2017-01-06 23:00:00</td>\n",
       "      <td>0.00</td>\n",
       "      <td>50.0</td>\n",
       "      <td>65.13</td>\n",
       "      <td>87.92</td>\n",
       "      <td>150.70</td>\n",
       "      <td>192.88</td>\n",
       "      <td>118.66</td>\n",
       "      <td>95.0</td>\n",
       "      <td>2107.44</td>\n",
       "    </tr>\n",
       "    <tr>\n",
       "      <th>1</th>\n",
       "      <td>1000515</td>\n",
       "      <td>db3c08b01205459294bbc91e3f7dfeb6</td>\n",
       "      <td>2017-01-06 23:00:01</td>\n",
       "      <td>47.49</td>\n",
       "      <td>51.0</td>\n",
       "      <td>72.34</td>\n",
       "      <td>83.78</td>\n",
       "      <td>154.76</td>\n",
       "      <td>196.04</td>\n",
       "      <td>116.69</td>\n",
       "      <td>100.0</td>\n",
       "      <td>2119.17</td>\n",
       "    </tr>\n",
       "    <tr>\n",
       "      <th>2</th>\n",
       "      <td>1000515</td>\n",
       "      <td>db3c08b01205459294bbc91e3f7dfeb6</td>\n",
       "      <td>2017-01-06 23:00:02</td>\n",
       "      <td>57.94</td>\n",
       "      <td>50.0</td>\n",
       "      <td>69.20</td>\n",
       "      <td>87.73</td>\n",
       "      <td>165.50</td>\n",
       "      <td>196.01</td>\n",
       "      <td>105.46</td>\n",
       "      <td>90.0</td>\n",
       "      <td>2112.32</td>\n",
       "    </tr>\n",
       "    <tr>\n",
       "      <th>3</th>\n",
       "      <td>1000515</td>\n",
       "      <td>db3c08b01205459294bbc91e3f7dfeb6</td>\n",
       "      <td>2017-01-06 23:00:03</td>\n",
       "      <td>57.50</td>\n",
       "      <td>48.0</td>\n",
       "      <td>70.83</td>\n",
       "      <td>84.95</td>\n",
       "      <td>157.32</td>\n",
       "      <td>193.31</td>\n",
       "      <td>110.35</td>\n",
       "      <td>90.0</td>\n",
       "      <td>2092.94</td>\n",
       "    </tr>\n",
       "    <tr>\n",
       "      <th>4</th>\n",
       "      <td>1000515</td>\n",
       "      <td>db3c08b01205459294bbc91e3f7dfeb6</td>\n",
       "      <td>2017-01-06 23:00:04</td>\n",
       "      <td>52.29</td>\n",
       "      <td>47.0</td>\n",
       "      <td>70.22</td>\n",
       "      <td>92.90</td>\n",
       "      <td>151.00</td>\n",
       "      <td>189.49</td>\n",
       "      <td>104.25</td>\n",
       "      <td>97.0</td>\n",
       "      <td>2117.87</td>\n",
       "    </tr>\n",
       "  </tbody>\n",
       "</table>\n",
       "</div>"
      ],
      "text/plain": [
       "  vehicle_id                           trip_id            datetime  velocity  \\\n",
       "0    1000515  db3c08b01205459294bbc91e3f7dfeb6 2017-01-06 23:00:00      0.00   \n",
       "1    1000515  db3c08b01205459294bbc91e3f7dfeb6 2017-01-06 23:00:01     47.49   \n",
       "2    1000515  db3c08b01205459294bbc91e3f7dfeb6 2017-01-06 23:00:02     57.94   \n",
       "3    1000515  db3c08b01205459294bbc91e3f7dfeb6 2017-01-06 23:00:03     57.50   \n",
       "4    1000515  db3c08b01205459294bbc91e3f7dfeb6 2017-01-06 23:00:04     52.29   \n",
       "\n",
       "   accel_x  accel_y  accel_z  engine_coolant_temp  eng_load  fuel_level  \\\n",
       "0     50.0    65.13    87.92               150.70    192.88      118.66   \n",
       "1     51.0    72.34    83.78               154.76    196.04      116.69   \n",
       "2     50.0    69.20    87.73               165.50    196.01      105.46   \n",
       "3     48.0    70.83    84.95               157.32    193.31      110.35   \n",
       "4     47.0    70.22    92.90               151.00    189.49      104.25   \n",
       "\n",
       "     iat      rpm  \n",
       "0   95.0  2107.44  \n",
       "1  100.0  2119.17  \n",
       "2   90.0  2112.32  \n",
       "3   90.0  2092.94  \n",
       "4   97.0  2117.87  "
      ]
     },
     "execution_count": 223,
     "metadata": {},
     "output_type": "execute_result"
    }
   ],
   "source": [
    "df_drive.head()"
   ]
  },
  {
   "cell_type": "code",
   "execution_count": 224,
   "metadata": {},
   "outputs": [],
   "source": [
    "df_drive.velocity=df_drive.velocity.apply(lambda x: x*5/18)"
   ]
  },
  {
   "cell_type": "code",
   "execution_count": 225,
   "metadata": {},
   "outputs": [],
   "source": [
    "df_drive.datetime=df_drive.datetime.apply(lambda x :x-timedelta(hours=7)) "
   ]
  },
  {
   "cell_type": "code",
   "execution_count": 226,
   "metadata": {},
   "outputs": [],
   "source": [
    "target_df=pd.DataFrame(columns=[\"trip_id\",\"ft_cnt_vehicle_deaccel_val\",\"ft_cnt_vehicle_accel_val\"])"
   ]
  },
  {
   "cell_type": "code",
   "execution_count": 227,
   "metadata": {},
   "outputs": [],
   "source": [
    "total_trip_id=df_drive.trip_id.unique().tolist()"
   ]
  },
  {
   "cell_type": "code",
   "execution_count": 228,
   "metadata": {},
   "outputs": [],
   "source": [
    "for trip in total_trip_id:\n",
    "    tr=df_drive[df_drive.trip_id==trip]\n",
    "    tr_sub=tr.velocity.tolist()\n",
    "    variation=[]\n",
    "    for i in range(0,len(tr_sub)-1):\n",
    "        if tr_sub[i]>tr_sub[i+1]:\n",
    "            variation.append(\"d\")\n",
    "        elif tr_sub[i]<tr_sub[i+1]:\n",
    "            variation.append(\"a\")\n",
    "    if len(variation)==0:\n",
    "        deacc_val=0\n",
    "        acc_val=0\n",
    "    else:\n",
    "        change=[]\n",
    "        for i in range(0,len(variation)-1):\n",
    "            if variation[i]==variation[i+1]:\n",
    "                pass\n",
    "            else:\n",
    "                change.append(variation[i])\n",
    "        if variation[-1]==variation[-2]:\n",
    "            pass\n",
    "        else:\n",
    "            change.append(variation[-1])\n",
    "        deacc_val=change.count(\"d\")\n",
    "        acc_val=change.count(\"a\")\n",
    "    target_df=target_df.append({\"trip_id\":trip,\"ft_cnt_vehicle_deaccel_val\":change.count(\"d\"),\"ft_cnt_vehicle_accel_val\":change.count(\"a\")},ignore_index=True)"
   ]
  },
  {
   "cell_type": "code",
   "execution_count": 25,
   "metadata": {},
   "outputs": [],
   "source": [
    "pickle_in = open(\"data.pickle\",\"rb\")\n",
    "target_df = pickle.load(pickle_in)"
   ]
  },
  {
   "cell_type": "code",
   "execution_count": 229,
   "metadata": {},
   "outputs": [
    {
     "data": {
      "text/html": [
       "<div>\n",
       "<style scoped>\n",
       "    .dataframe tbody tr th:only-of-type {\n",
       "        vertical-align: middle;\n",
       "    }\n",
       "\n",
       "    .dataframe tbody tr th {\n",
       "        vertical-align: top;\n",
       "    }\n",
       "\n",
       "    .dataframe thead th {\n",
       "        text-align: right;\n",
       "    }\n",
       "</style>\n",
       "<table border=\"1\" class=\"dataframe\">\n",
       "  <thead>\n",
       "    <tr style=\"text-align: right;\">\n",
       "      <th></th>\n",
       "      <th>trip_id</th>\n",
       "      <th>ft_cnt_vehicle_deaccel_val</th>\n",
       "      <th>ft_cnt_vehicle_accel_val</th>\n",
       "    </tr>\n",
       "  </thead>\n",
       "  <tbody>\n",
       "    <tr>\n",
       "      <th>0</th>\n",
       "      <td>db3c08b01205459294bbc91e3f7dfeb6</td>\n",
       "      <td>1429</td>\n",
       "      <td>1430</td>\n",
       "    </tr>\n",
       "    <tr>\n",
       "      <th>1</th>\n",
       "      <td>77b52511437f4b78871eb1ef6080daae</td>\n",
       "      <td>2381</td>\n",
       "      <td>2382</td>\n",
       "    </tr>\n",
       "    <tr>\n",
       "      <th>2</th>\n",
       "      <td>b086a49b14b4420c98bbb569510c5629</td>\n",
       "      <td>894</td>\n",
       "      <td>895</td>\n",
       "    </tr>\n",
       "    <tr>\n",
       "      <th>3</th>\n",
       "      <td>726358cae8754f52a9fcdd0d1441d618</td>\n",
       "      <td>213</td>\n",
       "      <td>214</td>\n",
       "    </tr>\n",
       "    <tr>\n",
       "      <th>4</th>\n",
       "      <td>1db28627c3c748868f4eb7c6afb8d083</td>\n",
       "      <td>1334</td>\n",
       "      <td>1335</td>\n",
       "    </tr>\n",
       "  </tbody>\n",
       "</table>\n",
       "</div>"
      ],
      "text/plain": [
       "                            trip_id ft_cnt_vehicle_deaccel_val  \\\n",
       "0  db3c08b01205459294bbc91e3f7dfeb6                       1429   \n",
       "1  77b52511437f4b78871eb1ef6080daae                       2381   \n",
       "2  b086a49b14b4420c98bbb569510c5629                        894   \n",
       "3  726358cae8754f52a9fcdd0d1441d618                        213   \n",
       "4  1db28627c3c748868f4eb7c6afb8d083                       1334   \n",
       "\n",
       "  ft_cnt_vehicle_accel_val  \n",
       "0                     1430  \n",
       "1                     2382  \n",
       "2                      895  \n",
       "3                      214  \n",
       "4                     1335  "
      ]
     },
     "execution_count": 229,
     "metadata": {},
     "output_type": "execute_result"
    }
   ],
   "source": [
    "target_df.head()"
   ]
  },
  {
   "cell_type": "code",
   "execution_count": 230,
   "metadata": {},
   "outputs": [],
   "source": [
    "#Hard accel or deaacel"
   ]
  },
  {
   "cell_type": "code",
   "execution_count": 232,
   "metadata": {},
   "outputs": [],
   "source": [
    "deacc=[]"
   ]
  },
  {
   "cell_type": "code",
   "execution_count": 233,
   "metadata": {},
   "outputs": [],
   "source": [
    "for trip in total_trip_id:\n",
    "    speed_var=[]\n",
    "    tr=df_drive[df_drive.trip_id==trip]\n",
    "    tr_sub=tr.velocity.tolist()\n",
    "    for speed in range(0,len(tr_sub)-1):\n",
    "        speed_var.append(tr_sub[speed+1]-tr_sub[speed])\n",
    "    if len(speed_var)==1:\n",
    "        dec_10=0\n",
    "    else:\n",
    "        new_speed_deaccel=[x if x<=-10 else \"no\" for x in speed_var]\n",
    "        hard_deaccel=[]\n",
    "        for i in range(0,len(new_speed_deaccel)-1):\n",
    "            if new_speed_deaccel[i]==new_speed_deaccel[i+1]:\n",
    "                pass\n",
    "            else:\n",
    "                hard_deaccel.append(new_speed_deaccel[i])\n",
    "        if new_speed_deaccel[-1]==new_speed_deaccel[-2]:\n",
    "            pass\n",
    "        else:\n",
    "            hard_deaccel.append(new_speed_deaccel[-1])\n",
    "\n",
    "        hard_deaccel.append(\"no\")\n",
    "        hard_deaccel.insert(0,\"no\")\n",
    "        \n",
    "        m=[]\n",
    "        z=0\n",
    "        for i in range(0,len(hard_deaccel)-1):\n",
    "            if type(hard_deaccel[i])!=type(hard_deaccel[i+1]):\n",
    "                if type(hard_deaccel[i])==int and type(hard_deaccel[i-1])==int:\n",
    "                    pass\n",
    "                else:\n",
    "                    m.append(hard_deaccel[i])\n",
    "                z=0\n",
    "            elif type(hard_deaccel[i])==type(hard_deaccel[i+1])==int:\n",
    "                v=[z,hard_deaccel[i],hard_deaccel[i+1]]\n",
    "                z=max(v)\n",
    "                if hard_deaccel[i+2]==\"n\":\n",
    "                    m.append(z)\n",
    "            else:\n",
    "                pass\n",
    "            \n",
    "            dec_10=sum(isinstance(x, float) for x in m)\n",
    "    deacc.append(dec_10)"
   ]
  },
  {
   "cell_type": "code",
   "execution_count": 234,
   "metadata": {},
   "outputs": [],
   "source": [
    "target_df[\"ft_sum_hard_brakes_10_flg_val\"]=deacc"
   ]
  },
  {
   "cell_type": "code",
   "execution_count": 235,
   "metadata": {},
   "outputs": [],
   "source": [
    "deacc_3_10=[]"
   ]
  },
  {
   "cell_type": "code",
   "execution_count": null,
   "metadata": {},
   "outputs": [],
   "source": [
    "for trip in total_trip_id:\n",
    "    speed_var=[]\n",
    "    tr=df_drive[df_drive.trip_id==trip]\n",
    "    tr_sub=tr.velocity.tolist()\n",
    "    for speed in range(0,len(tr_sub)-1):\n",
    "        speed_var.append(tr_sub[speed+1]-tr_sub[speed])\n",
    "    if len(speed_var)==1:\n",
    "        dec_10=0\n",
    "    else:\n",
    "        new_speed_deaccel=[x if -3>= x >-10 else \"no\" for x in speed_var]\n",
    "        hard_deaccel=[]\n",
    "        for i in range(0,len(new_speed_deaccel)-1):\n",
    "            if new_speed_deaccel[i]==new_speed_deaccel[i+1]:\n",
    "                pass\n",
    "            else:\n",
    "                hard_deaccel.append(new_speed_deaccel[i])\n",
    "        if new_speed_deaccel[-1]==new_speed_deaccel[-2]:\n",
    "            pass\n",
    "        else:\n",
    "            hard_deaccel.append(new_speed_deaccel[-1])\n",
    "\n",
    "        hard_deaccel.append(\"no\")\n",
    "        hard_deaccel.insert(0,\"no\")\n",
    "        \n",
    "        m=[]\n",
    "        z=0\n",
    "        for i in range(0,len(hard_deaccel)-1):\n",
    "            if type(hard_deaccel[i])!=type(hard_deaccel[i+1]):\n",
    "                if type(hard_deaccel[i])==int and type(hard_deaccel[i-1])==int:\n",
    "                    pass\n",
    "                else:\n",
    "                    m.append(hard_deaccel[i])\n",
    "                z=0\n",
    "            elif type(hard_deaccel[i])==type(hard_deaccel[i+1])==int:\n",
    "                v=[z,hard_deaccel[i],hard_deaccel[i+1]]\n",
    "                z=max(v)\n",
    "                if hard_deaccel[i+2]==\"n\":\n",
    "                    m.append(z)\n",
    "            else:\n",
    "                pass\n",
    "            \n",
    "            dec_10=sum(isinstance(x, float) for x in m)\n",
    "    deacc_3_10.append(dec_10)"
   ]
  },
  {
   "cell_type": "code",
   "execution_count": null,
   "metadata": {},
   "outputs": [],
   "source": [
    "target_df[\"ft_sum_hard_brakes_3_flg_val\"]=deacc_3_10"
   ]
  },
  {
   "cell_type": "code",
   "execution_count": null,
   "metadata": {},
   "outputs": [],
   "source": [
    "acc=[]"
   ]
  },
  {
   "cell_type": "code",
   "execution_count": null,
   "metadata": {},
   "outputs": [],
   "source": [
    "for trip in total_trip_id:\n",
    "    speed_var=[]\n",
    "    tr=df_drive[df_drive.trip_id==trip]\n",
    "    tr_sub=tr.velocity.tolist()\n",
    "    for speed in range(0,len(tr_sub)-1):\n",
    "        speed_var.append(tr_sub[speed+1]-tr_sub[speed])\n",
    "    if len(speed_var)==1:\n",
    "        acc_10=0\n",
    "    else:\n",
    "        new_speed_accel=[x if x > 10 else \"no\" for x in speed_var]\n",
    "        hard_accel=[]\n",
    "        for i in range(0,len(new_speed_accel)-1):\n",
    "            if new_speed_accel[i]==new_speed_accel[i+1]:\n",
    "                pass\n",
    "            else:\n",
    "                hard_accel.append(new_speed_accel[i])\n",
    "        if new_speed_accel[-1]==new_speed_accel[-2]:\n",
    "            pass\n",
    "        else:\n",
    "            hard_accel.append(new_speed_accel[-1])\n",
    "\n",
    "        hard_accel.append(\"no\")\n",
    "        hard_accel.insert(0,\"no\")\n",
    "        \n",
    "        m=[]\n",
    "        z=0\n",
    "        for i in range(0,len(hard_accel)-1):\n",
    "            if type(hard_accel[i])!=type(hard_accel[i+1]):\n",
    "                if type(hard_accel[i])==int and type(hard_accel[i-1])==int:\n",
    "                    pass\n",
    "                else:\n",
    "                    m.append(hard_accel[i])\n",
    "                z=0\n",
    "            elif type(hard_accel[i])==type(hard_accel[i+1])==int:\n",
    "                v=[z,hard_accel[i],hard_accel[i+1]]\n",
    "                z=max(v)\n",
    "                if hard_accel[i+2]==\"n\":\n",
    "                    m.append(z)\n",
    "            else:\n",
    "                pass\n",
    "            \n",
    "            acc_10=sum(isinstance(x, float) for x in m)\n",
    "    acc.append(acc_10)"
   ]
  },
  {
   "cell_type": "code",
   "execution_count": null,
   "metadata": {},
   "outputs": [],
   "source": [
    "target_df[\"ft_sum_hard_accel_10_flg_val\"]=acc"
   ]
  },
  {
   "cell_type": "code",
   "execution_count": null,
   "metadata": {},
   "outputs": [],
   "source": [
    "acc_3_10=[]"
   ]
  },
  {
   "cell_type": "code",
   "execution_count": null,
   "metadata": {},
   "outputs": [],
   "source": [
    "for trip in total_trip_id:\n",
    "    speed_var=[]\n",
    "    tr=df_drive[df_drive.trip_id==trip]\n",
    "    tr_sub=tr.velocity.tolist()\n",
    "    for speed in range(0,len(tr_sub)-1):\n",
    "        speed_var.append(tr_sub[speed+1]-tr_sub[speed])\n",
    "    if len(speed_var)==1:\n",
    "        acc_10=0\n",
    "    else:\n",
    "        new_speed_accel=[x if 3<= x < 10 else \"no\" for x in speed_var]\n",
    "        hard_accel=[]\n",
    "        for i in range(0,len(new_speed_accel)-1):\n",
    "            if new_speed_accel[i]==new_speed_accel[i+1]:\n",
    "                pass\n",
    "            else:\n",
    "                hard_accel.append(new_speed_accel[i])\n",
    "        if new_speed_accel[-1]==new_speed_accel[-2]:\n",
    "            pass\n",
    "        else:\n",
    "            hard_accel.append(new_speed_accel[-1])\n",
    "\n",
    "        hard_accel.append(\"no\")\n",
    "        hard_accel.insert(0,\"no\")\n",
    "        \n",
    "        m=[]\n",
    "        z=0\n",
    "        for i in range(0,len(hard_accel)-1):\n",
    "            if type(hard_accel[i])!=type(hard_accel[i+1]):\n",
    "                if type(hard_accel[i])==int and type(hard_accel[i-1])==int:\n",
    "                    pass\n",
    "                else:\n",
    "                    m.append(hard_accel[i])\n",
    "                z=0\n",
    "            elif type(hard_accel[i])==type(hard_accel[i+1])==int:\n",
    "                v=[z,hard_accel[i],hard_accel[i+1]]\n",
    "                z=max(v)\n",
    "                if hard_accel[i+2]==\"n\":\n",
    "                    m.append(z)\n",
    "            else:\n",
    "                pass\n",
    "            \n",
    "            acc_10=sum(isinstance(x, float) for x in m)\n",
    "    acc_3_10.append(acc_10)"
   ]
  },
  {
   "cell_type": "code",
   "execution_count": null,
   "metadata": {},
   "outputs": [],
   "source": [
    "target_df[\"ft_sum_hard_accel_3_flg_val\"]=acc_3_10"
   ]
  },
  {
   "cell_type": "code",
   "execution_count": null,
   "metadata": {},
   "outputs": [],
   "source": [
    "target_df.head(10)"
   ]
  },
  {
   "cell_type": "code",
   "execution_count": null,
   "metadata": {},
   "outputs": [],
   "source": [
    "trip_acl=[]\n",
    "trip_dcl=[]"
   ]
  },
  {
   "cell_type": "code",
   "execution_count": null,
   "metadata": {},
   "outputs": [],
   "source": [
    "for trip in total_trip_id:\n",
    "    acl=0\n",
    "    decl=0\n",
    "    tr=df_drive[df_drive.trip_id==trip]\n",
    "    tr_sub=tr.velocity.tolist()\n",
    "    if sum(tr_sub)==0:\n",
    "        acl+=0\n",
    "        decl+=0\n",
    "    else:\n",
    "        for i in range(0,len(tr_sub)-1):\n",
    "            if tr_sub[i]<tr_sub[i+1]:\n",
    "                acl+=1\n",
    "            else:\n",
    "                decl+=1\n",
    "    trip_acl.append(acl)\n",
    "    trip_dcl.append(decl)\n",
    "    "
   ]
  },
  {
   "cell_type": "code",
   "execution_count": null,
   "metadata": {},
   "outputs": [],
   "source": [
    "target_df[\"ft_sum_time_deaccel_val\"]=trip_dcl\n",
    "target_df[\"ft_sum_time_accel_val\"]=trip_acl"
   ]
  },
  {
   "cell_type": "code",
   "execution_count": null,
   "metadata": {},
   "outputs": [],
   "source": [
    "len(trip_acl),len(trip_dcl)"
   ]
  },
  {
   "cell_type": "code",
   "execution_count": null,
   "metadata": {},
   "outputs": [],
   "source": [
    "target_df.head(10)"
   ]
  },
  {
   "cell_type": "code",
   "execution_count": null,
   "metadata": {},
   "outputs": [],
   "source": [
    "pickle_out = open(\"data.pickle\",\"wb\")\n",
    "pickle.dump(target_df, pickle_out)\n",
    "pickle_out.close()"
   ]
  },
  {
   "cell_type": "code",
   "execution_count": null,
   "metadata": {},
   "outputs": [],
   "source": [
    "pickle_in = open(\"data.pickle\",\"rb\")\n",
    "target_df = pickle.load(pickle_in)"
   ]
  },
  {
   "cell_type": "code",
   "execution_count": null,
   "metadata": {},
   "outputs": [],
   "source": [
    "target_df.head()"
   ]
  },
  {
   "cell_type": "code",
   "execution_count": 81,
   "metadata": {},
   "outputs": [],
   "source": [
    "target_df.to_csv(\"drive_features.csv\",index=False)"
   ]
  },
  {
   "cell_type": "code",
   "execution_count": 9,
   "metadata": {},
   "outputs": [],
   "source": [
    "################################################################################################################################"
   ]
  },
  {
   "cell_type": "markdown",
   "metadata": {},
   "source": [
    "Engine csv"
   ]
  },
  {
   "cell_type": "code",
   "execution_count": 84,
   "metadata": {},
   "outputs": [
    {
     "data": {
      "text/html": [
       "<div>\n",
       "<style scoped>\n",
       "    .dataframe tbody tr th:only-of-type {\n",
       "        vertical-align: middle;\n",
       "    }\n",
       "\n",
       "    .dataframe tbody tr th {\n",
       "        vertical-align: top;\n",
       "    }\n",
       "\n",
       "    .dataframe thead th {\n",
       "        text-align: right;\n",
       "    }\n",
       "</style>\n",
       "<table border=\"1\" class=\"dataframe\">\n",
       "  <thead>\n",
       "    <tr style=\"text-align: right;\">\n",
       "      <th></th>\n",
       "      <th>vehicle_id</th>\n",
       "      <th>trip_id</th>\n",
       "      <th>datetime</th>\n",
       "      <th>velocity</th>\n",
       "      <th>accel_x</th>\n",
       "      <th>accel_y</th>\n",
       "      <th>accel_z</th>\n",
       "      <th>engine_coolant_temp</th>\n",
       "      <th>eng_load</th>\n",
       "      <th>fuel_level</th>\n",
       "      <th>iat</th>\n",
       "      <th>rpm</th>\n",
       "    </tr>\n",
       "  </thead>\n",
       "  <tbody>\n",
       "    <tr>\n",
       "      <th>0</th>\n",
       "      <td>1000515</td>\n",
       "      <td>db3c08b01205459294bbc91e3f7dfeb6</td>\n",
       "      <td>2017-01-06 16:00:00</td>\n",
       "      <td>0.000000</td>\n",
       "      <td>50.0</td>\n",
       "      <td>65.13</td>\n",
       "      <td>87.92</td>\n",
       "      <td>150.70</td>\n",
       "      <td>192.88</td>\n",
       "      <td>118.66</td>\n",
       "      <td>95.0</td>\n",
       "      <td>2107.44</td>\n",
       "    </tr>\n",
       "    <tr>\n",
       "      <th>1</th>\n",
       "      <td>1000515</td>\n",
       "      <td>db3c08b01205459294bbc91e3f7dfeb6</td>\n",
       "      <td>2017-01-06 16:00:01</td>\n",
       "      <td>13.191667</td>\n",
       "      <td>51.0</td>\n",
       "      <td>72.34</td>\n",
       "      <td>83.78</td>\n",
       "      <td>154.76</td>\n",
       "      <td>196.04</td>\n",
       "      <td>116.69</td>\n",
       "      <td>100.0</td>\n",
       "      <td>2119.17</td>\n",
       "    </tr>\n",
       "    <tr>\n",
       "      <th>2</th>\n",
       "      <td>1000515</td>\n",
       "      <td>db3c08b01205459294bbc91e3f7dfeb6</td>\n",
       "      <td>2017-01-06 16:00:02</td>\n",
       "      <td>16.094444</td>\n",
       "      <td>50.0</td>\n",
       "      <td>69.20</td>\n",
       "      <td>87.73</td>\n",
       "      <td>165.50</td>\n",
       "      <td>196.01</td>\n",
       "      <td>105.46</td>\n",
       "      <td>90.0</td>\n",
       "      <td>2112.32</td>\n",
       "    </tr>\n",
       "    <tr>\n",
       "      <th>3</th>\n",
       "      <td>1000515</td>\n",
       "      <td>db3c08b01205459294bbc91e3f7dfeb6</td>\n",
       "      <td>2017-01-06 16:00:03</td>\n",
       "      <td>15.972222</td>\n",
       "      <td>48.0</td>\n",
       "      <td>70.83</td>\n",
       "      <td>84.95</td>\n",
       "      <td>157.32</td>\n",
       "      <td>193.31</td>\n",
       "      <td>110.35</td>\n",
       "      <td>90.0</td>\n",
       "      <td>2092.94</td>\n",
       "    </tr>\n",
       "    <tr>\n",
       "      <th>4</th>\n",
       "      <td>1000515</td>\n",
       "      <td>db3c08b01205459294bbc91e3f7dfeb6</td>\n",
       "      <td>2017-01-06 16:00:04</td>\n",
       "      <td>14.525000</td>\n",
       "      <td>47.0</td>\n",
       "      <td>70.22</td>\n",
       "      <td>92.90</td>\n",
       "      <td>151.00</td>\n",
       "      <td>189.49</td>\n",
       "      <td>104.25</td>\n",
       "      <td>97.0</td>\n",
       "      <td>2117.87</td>\n",
       "    </tr>\n",
       "  </tbody>\n",
       "</table>\n",
       "</div>"
      ],
      "text/plain": [
       "  vehicle_id                           trip_id            datetime   velocity  \\\n",
       "0    1000515  db3c08b01205459294bbc91e3f7dfeb6 2017-01-06 16:00:00   0.000000   \n",
       "1    1000515  db3c08b01205459294bbc91e3f7dfeb6 2017-01-06 16:00:01  13.191667   \n",
       "2    1000515  db3c08b01205459294bbc91e3f7dfeb6 2017-01-06 16:00:02  16.094444   \n",
       "3    1000515  db3c08b01205459294bbc91e3f7dfeb6 2017-01-06 16:00:03  15.972222   \n",
       "4    1000515  db3c08b01205459294bbc91e3f7dfeb6 2017-01-06 16:00:04  14.525000   \n",
       "\n",
       "   accel_x  accel_y  accel_z  engine_coolant_temp  eng_load  fuel_level  \\\n",
       "0     50.0    65.13    87.92               150.70    192.88      118.66   \n",
       "1     51.0    72.34    83.78               154.76    196.04      116.69   \n",
       "2     50.0    69.20    87.73               165.50    196.01      105.46   \n",
       "3     48.0    70.83    84.95               157.32    193.31      110.35   \n",
       "4     47.0    70.22    92.90               151.00    189.49      104.25   \n",
       "\n",
       "     iat      rpm  \n",
       "0   95.0  2107.44  \n",
       "1  100.0  2119.17  \n",
       "2   90.0  2112.32  \n",
       "3   90.0  2092.94  \n",
       "4   97.0  2117.87  "
      ]
     },
     "execution_count": 84,
     "metadata": {},
     "output_type": "execute_result"
    }
   ],
   "source": [
    "df_drive.head()"
   ]
  },
  {
   "cell_type": "code",
   "execution_count": 94,
   "metadata": {},
   "outputs": [],
   "source": [
    "df_vehicle=pd.read_csv(r\"C:\\Users\\11147\\Desktop\\Sanket_backup\\Mhack\\vehicle.csv\")"
   ]
  },
  {
   "cell_type": "code",
   "execution_count": 95,
   "metadata": {},
   "outputs": [
    {
     "data": {
      "text/html": [
       "<div>\n",
       "<style scoped>\n",
       "    .dataframe tbody tr th:only-of-type {\n",
       "        vertical-align: middle;\n",
       "    }\n",
       "\n",
       "    .dataframe tbody tr th {\n",
       "        vertical-align: top;\n",
       "    }\n",
       "\n",
       "    .dataframe thead th {\n",
       "        text-align: right;\n",
       "    }\n",
       "</style>\n",
       "<table border=\"1\" class=\"dataframe\">\n",
       "  <thead>\n",
       "    <tr style=\"text-align: right;\">\n",
       "      <th></th>\n",
       "      <th>vehicle_id</th>\n",
       "      <th>year</th>\n",
       "      <th>make</th>\n",
       "      <th>Model</th>\n",
       "      <th>drivetrain</th>\n",
       "      <th>max_torque</th>\n",
       "      <th>max_horsepower</th>\n",
       "      <th>max_horsepower_rpm</th>\n",
       "      <th>max_torque_rpm</th>\n",
       "      <th>engine_displacement</th>\n",
       "      <th>fuel_type</th>\n",
       "      <th>fuel_tank_capacity</th>\n",
       "      <th>fuel_economy_city</th>\n",
       "      <th>fuel_economy_highway</th>\n",
       "      <th>cylinders</th>\n",
       "      <th>forced_induction</th>\n",
       "      <th>device_generation</th>\n",
       "    </tr>\n",
       "  </thead>\n",
       "  <tbody>\n",
       "    <tr>\n",
       "      <th>0</th>\n",
       "      <td>1000500</td>\n",
       "      <td>2016</td>\n",
       "      <td>Honda</td>\n",
       "      <td>Civic</td>\n",
       "      <td>2</td>\n",
       "      <td>174</td>\n",
       "      <td>140</td>\n",
       "      <td>6500</td>\n",
       "      <td>1500</td>\n",
       "      <td>1.799</td>\n",
       "      <td>1059</td>\n",
       "      <td>47</td>\n",
       "      <td>16.50</td>\n",
       "      <td>20.00</td>\n",
       "      <td>4</td>\n",
       "      <td>1054.0</td>\n",
       "      <td>5</td>\n",
       "    </tr>\n",
       "    <tr>\n",
       "      <th>1</th>\n",
       "      <td>1000501</td>\n",
       "      <td>2016</td>\n",
       "      <td>Jeep</td>\n",
       "      <td>Compass</td>\n",
       "      <td>4</td>\n",
       "      <td>350</td>\n",
       "      <td>171</td>\n",
       "      <td>3750</td>\n",
       "      <td>1250</td>\n",
       "      <td>1.956</td>\n",
       "      <td>1059</td>\n",
       "      <td>60</td>\n",
       "      <td>17.10</td>\n",
       "      <td>21.20</td>\n",
       "      <td>3</td>\n",
       "      <td>NaN</td>\n",
       "      <td>4</td>\n",
       "    </tr>\n",
       "    <tr>\n",
       "      <th>2</th>\n",
       "      <td>1000502</td>\n",
       "      <td>2016</td>\n",
       "      <td>Hyundai</td>\n",
       "      <td>Creta</td>\n",
       "      <td>2</td>\n",
       "      <td>260</td>\n",
       "      <td>126</td>\n",
       "      <td>4000</td>\n",
       "      <td>1500</td>\n",
       "      <td>1.582</td>\n",
       "      <td>1059</td>\n",
       "      <td>55</td>\n",
       "      <td>19.67</td>\n",
       "      <td>24.10</td>\n",
       "      <td>4</td>\n",
       "      <td>1054.0</td>\n",
       "      <td>3</td>\n",
       "    </tr>\n",
       "    <tr>\n",
       "      <th>3</th>\n",
       "      <td>1000503</td>\n",
       "      <td>2016</td>\n",
       "      <td>Skoda</td>\n",
       "      <td>Superb</td>\n",
       "      <td>2</td>\n",
       "      <td>250</td>\n",
       "      <td>177</td>\n",
       "      <td>5100</td>\n",
       "      <td>1750</td>\n",
       "      <td>1.798</td>\n",
       "      <td>1059</td>\n",
       "      <td>66</td>\n",
       "      <td>14.67</td>\n",
       "      <td>23.30</td>\n",
       "      <td>3</td>\n",
       "      <td>NaN</td>\n",
       "      <td>2</td>\n",
       "    </tr>\n",
       "    <tr>\n",
       "      <th>4</th>\n",
       "      <td>1000504</td>\n",
       "      <td>2017</td>\n",
       "      <td>Volkswagen</td>\n",
       "      <td>Passat</td>\n",
       "      <td>4</td>\n",
       "      <td>350</td>\n",
       "      <td>174</td>\n",
       "      <td>3600</td>\n",
       "      <td>1500</td>\n",
       "      <td>1.968</td>\n",
       "      <td>1059</td>\n",
       "      <td>66</td>\n",
       "      <td>17.42</td>\n",
       "      <td>20.43</td>\n",
       "      <td>4</td>\n",
       "      <td>NaN</td>\n",
       "      <td>4</td>\n",
       "    </tr>\n",
       "    <tr>\n",
       "      <th>5</th>\n",
       "      <td>1000506</td>\n",
       "      <td>2017</td>\n",
       "      <td>BMW</td>\n",
       "      <td>3 Series GT</td>\n",
       "      <td>2</td>\n",
       "      <td>400</td>\n",
       "      <td>188</td>\n",
       "      <td>4000</td>\n",
       "      <td>1800</td>\n",
       "      <td>1.995</td>\n",
       "      <td>1059</td>\n",
       "      <td>57</td>\n",
       "      <td>21.76</td>\n",
       "      <td>26.32</td>\n",
       "      <td>3</td>\n",
       "      <td>NaN</td>\n",
       "      <td>3</td>\n",
       "    </tr>\n",
       "    <tr>\n",
       "      <th>6</th>\n",
       "      <td>1000507</td>\n",
       "      <td>2017</td>\n",
       "      <td>Audi</td>\n",
       "      <td>Q3</td>\n",
       "      <td>3</td>\n",
       "      <td>250</td>\n",
       "      <td>148</td>\n",
       "      <td>5000</td>\n",
       "      <td>1400</td>\n",
       "      <td>1.395</td>\n",
       "      <td>1059</td>\n",
       "      <td>64</td>\n",
       "      <td>16.90</td>\n",
       "      <td>21.40</td>\n",
       "      <td>3</td>\n",
       "      <td>1054.0</td>\n",
       "      <td>2</td>\n",
       "    </tr>\n",
       "  </tbody>\n",
       "</table>\n",
       "</div>"
      ],
      "text/plain": [
       "   vehicle_id  year        make        Model  drivetrain  max_torque  \\\n",
       "0     1000500  2016       Honda        Civic           2         174   \n",
       "1     1000501  2016        Jeep      Compass           4         350   \n",
       "2     1000502  2016     Hyundai        Creta           2         260   \n",
       "3     1000503  2016       Skoda       Superb           2         250   \n",
       "4     1000504  2017  Volkswagen       Passat           4         350   \n",
       "5     1000506  2017         BMW  3 Series GT           2         400   \n",
       "6     1000507  2017        Audi           Q3           3         250   \n",
       "\n",
       "   max_horsepower  max_horsepower_rpm  max_torque_rpm  engine_displacement  \\\n",
       "0             140                6500            1500                1.799   \n",
       "1             171                3750            1250                1.956   \n",
       "2             126                4000            1500                1.582   \n",
       "3             177                5100            1750                1.798   \n",
       "4             174                3600            1500                1.968   \n",
       "5             188                4000            1800                1.995   \n",
       "6             148                5000            1400                1.395   \n",
       "\n",
       "   fuel_type  fuel_tank_capacity  fuel_economy_city  fuel_economy_highway  \\\n",
       "0       1059                  47              16.50                 20.00   \n",
       "1       1059                  60              17.10                 21.20   \n",
       "2       1059                  55              19.67                 24.10   \n",
       "3       1059                  66              14.67                 23.30   \n",
       "4       1059                  66              17.42                 20.43   \n",
       "5       1059                  57              21.76                 26.32   \n",
       "6       1059                  64              16.90                 21.40   \n",
       "\n",
       "   cylinders  forced_induction  device_generation  \n",
       "0          4            1054.0                  5  \n",
       "1          3               NaN                  4  \n",
       "2          4            1054.0                  3  \n",
       "3          3               NaN                  2  \n",
       "4          4               NaN                  4  \n",
       "5          3               NaN                  3  \n",
       "6          3            1054.0                  2  "
      ]
     },
     "execution_count": 95,
     "metadata": {},
     "output_type": "execute_result"
    }
   ],
   "source": [
    "df_vehicle"
   ]
  },
  {
   "cell_type": "code",
   "execution_count": 85,
   "metadata": {},
   "outputs": [],
   "source": [
    "vehicle=df_drive.vehicle_id.unique().tolist()"
   ]
  },
  {
   "cell_type": "code",
   "execution_count": 86,
   "metadata": {},
   "outputs": [],
   "source": [
    "engine=df_drive[[\"vehicle_id\",\"eng_load\",\"rpm\",\"datetime\"]]"
   ]
  },
  {
   "cell_type": "code",
   "execution_count": 87,
   "metadata": {},
   "outputs": [
    {
     "name": "stderr",
     "output_type": "stream",
     "text": [
      "C:\\Users\\11147\\AppData\\Local\\Continuum\\anaconda3\\lib\\site-packages\\ipykernel_launcher.py:1: SettingWithCopyWarning: \n",
      "A value is trying to be set on a copy of a slice from a DataFrame\n",
      "\n",
      "See the caveats in the documentation: http://pandas.pydata.org/pandas-docs/stable/indexing.html#indexing-view-versus-copy\n",
      "  \"\"\"Entry point for launching an IPython kernel.\n"
     ]
    }
   ],
   "source": [
    "engine.sort_values(\"vehicle_id\",inplace=True)    "
   ]
  },
  {
   "cell_type": "code",
   "execution_count": 88,
   "metadata": {},
   "outputs": [
    {
     "name": "stderr",
     "output_type": "stream",
     "text": [
      "C:\\Users\\11147\\AppData\\Local\\Continuum\\anaconda3\\lib\\site-packages\\ipykernel_launcher.py:1: SettingWithCopyWarning: \n",
      "A value is trying to be set on a copy of a slice from a DataFrame.\n",
      "Try using .loc[row_indexer,col_indexer] = value instead\n",
      "\n",
      "See the caveats in the documentation: http://pandas.pydata.org/pandas-docs/stable/indexing.html#indexing-view-versus-copy\n",
      "  \"\"\"Entry point for launching an IPython kernel.\n"
     ]
    }
   ],
   "source": [
    "engine[\"torque_utilization\"]=engine[\"eng_load\"]/255"
   ]
  },
  {
   "cell_type": "code",
   "execution_count": 89,
   "metadata": {},
   "outputs": [
    {
     "name": "stderr",
     "output_type": "stream",
     "text": [
      "C:\\Users\\11147\\AppData\\Local\\Continuum\\anaconda3\\lib\\site-packages\\ipykernel_launcher.py:1: SettingWithCopyWarning: \n",
      "A value is trying to be set on a copy of a slice from a DataFrame.\n",
      "Try using .loc[row_indexer,col_indexer] = value instead\n",
      "\n",
      "See the caveats in the documentation: http://pandas.pydata.org/pandas-docs/stable/indexing.html#indexing-view-versus-copy\n",
      "  \"\"\"Entry point for launching an IPython kernel.\n",
      "C:\\Users\\11147\\AppData\\Local\\Continuum\\anaconda3\\lib\\site-packages\\ipykernel_launcher.py:2: SettingWithCopyWarning: \n",
      "A value is trying to be set on a copy of a slice from a DataFrame.\n",
      "Try using .loc[row_indexer,col_indexer] = value instead\n",
      "\n",
      "See the caveats in the documentation: http://pandas.pydata.org/pandas-docs/stable/indexing.html#indexing-view-versus-copy\n",
      "  \n",
      "C:\\Users\\11147\\AppData\\Local\\Continuum\\anaconda3\\lib\\site-packages\\ipykernel_launcher.py:3: SettingWithCopyWarning: \n",
      "A value is trying to be set on a copy of a slice from a DataFrame.\n",
      "Try using .loc[row_indexer,col_indexer] = value instead\n",
      "\n",
      "See the caveats in the documentation: http://pandas.pydata.org/pandas-docs/stable/indexing.html#indexing-view-versus-copy\n",
      "  This is separate from the ipykernel package so we can avoid doing imports until\n"
     ]
    }
   ],
   "source": [
    "engine[\"max_torque\"]=0\n",
    "engine[\"max_hp\"]=0\n",
    "engine[\"max_hp_rpm\"]=0"
   ]
  },
  {
   "cell_type": "code",
   "execution_count": 130,
   "metadata": {},
   "outputs": [
    {
     "name": "stderr",
     "output_type": "stream",
     "text": [
      "C:\\Users\\11147\\AppData\\Local\\Continuum\\anaconda3\\lib\\site-packages\\pandas\\core\\indexing.py:543: SettingWithCopyWarning: \n",
      "A value is trying to be set on a copy of a slice from a DataFrame.\n",
      "Try using .loc[row_indexer,col_indexer] = value instead\n",
      "\n",
      "See the caveats in the documentation: http://pandas.pydata.org/pandas-docs/stable/indexing.html#indexing-view-versus-copy\n",
      "  self.obj[item] = s\n"
     ]
    }
   ],
   "source": [
    "for veh in vehicle:\n",
    "    if veh in (df_vehicle.vehicle_id.tolist()):\n",
    "        m_t=df_vehicle[df_vehicle.vehicle_id==veh][\"max_torque\"].values\n",
    "        m_h=df_vehicle[df_vehicle.vehicle_id==veh][\"max_horsepower\"].values\n",
    "        m_h_r=df_vehicle[df_vehicle.vehicle_id==veh][\"max_horsepower_rpm\"].values\n",
    "        engine.loc[engine.vehicle_id==veh,\"max_torque\"]=m_t[0]\n",
    "        engine.loc[engine.vehicle_id==veh,\"max_hp\"]=m_h[0]\n",
    "        engine.loc[engine.vehicle_id==veh,\"max_hp_rpm\"]=m_h_r[0]\n",
    "    else:\n",
    "        pass"
   ]
  },
  {
   "cell_type": "code",
   "execution_count": null,
   "metadata": {},
   "outputs": [],
   "source": [
    "engine.drop([\"hp_uti\",\"tor_uti\",\"rpm_uti\"],axis=1,inplace=True)"
   ]
  },
  {
   "cell_type": "code",
   "execution_count": null,
   "metadata": {},
   "outputs": [],
   "source": [
    "engine.drop(\"active_hp\",axis=1,inplace=True)"
   ]
  },
  {
   "cell_type": "code",
   "execution_count": null,
   "metadata": {},
   "outputs": [],
   "source": [
    "engine.drop(\"torque_utilization\",axis=1,inplace=True)"
   ]
  },
  {
   "cell_type": "code",
   "execution_count": 131,
   "metadata": {},
   "outputs": [],
   "source": [
    "engine_with=engine.loc[engine[\"vehicle_id\"].isin(df_vehicle.vehicle_id.tolist())]"
   ]
  },
  {
   "cell_type": "code",
   "execution_count": 132,
   "metadata": {},
   "outputs": [],
   "source": [
    "engine_without=engine.loc[~engine[\"vehicle_id\"].isin(df_vehicle.vehicle_id.tolist())]"
   ]
  },
  {
   "cell_type": "code",
   "execution_count": 133,
   "metadata": {},
   "outputs": [
    {
     "data": {
      "text/html": [
       "<div>\n",
       "<style scoped>\n",
       "    .dataframe tbody tr th:only-of-type {\n",
       "        vertical-align: middle;\n",
       "    }\n",
       "\n",
       "    .dataframe tbody tr th {\n",
       "        vertical-align: top;\n",
       "    }\n",
       "\n",
       "    .dataframe thead th {\n",
       "        text-align: right;\n",
       "    }\n",
       "</style>\n",
       "<table border=\"1\" class=\"dataframe\">\n",
       "  <thead>\n",
       "    <tr style=\"text-align: right;\">\n",
       "      <th></th>\n",
       "      <th>vehicle_id</th>\n",
       "      <th>eng_load</th>\n",
       "      <th>rpm</th>\n",
       "      <th>datetime</th>\n",
       "      <th>torque_utilization</th>\n",
       "      <th>max_torque</th>\n",
       "      <th>max_hp</th>\n",
       "      <th>max_hp_rpm</th>\n",
       "    </tr>\n",
       "  </thead>\n",
       "  <tbody>\n",
       "    <tr>\n",
       "      <th>8111126</th>\n",
       "      <td>1000505</td>\n",
       "      <td>218.35</td>\n",
       "      <td>2141.09</td>\n",
       "      <td>2017-01-22 10:46:12</td>\n",
       "      <td>0.856275</td>\n",
       "      <td>0</td>\n",
       "      <td>0</td>\n",
       "      <td>0</td>\n",
       "    </tr>\n",
       "    <tr>\n",
       "      <th>8111122</th>\n",
       "      <td>1000505</td>\n",
       "      <td>212.48</td>\n",
       "      <td>2143.20</td>\n",
       "      <td>2017-01-22 10:46:08</td>\n",
       "      <td>0.833255</td>\n",
       "      <td>0</td>\n",
       "      <td>0</td>\n",
       "      <td>0</td>\n",
       "    </tr>\n",
       "    <tr>\n",
       "      <th>8111125</th>\n",
       "      <td>1000505</td>\n",
       "      <td>204.92</td>\n",
       "      <td>2141.11</td>\n",
       "      <td>2017-01-22 10:46:11</td>\n",
       "      <td>0.803608</td>\n",
       "      <td>0</td>\n",
       "      <td>0</td>\n",
       "      <td>0</td>\n",
       "    </tr>\n",
       "    <tr>\n",
       "      <th>8111124</th>\n",
       "      <td>1000505</td>\n",
       "      <td>210.39</td>\n",
       "      <td>2142.20</td>\n",
       "      <td>2017-01-22 10:46:10</td>\n",
       "      <td>0.825059</td>\n",
       "      <td>0</td>\n",
       "      <td>0</td>\n",
       "      <td>0</td>\n",
       "    </tr>\n",
       "    <tr>\n",
       "      <th>8111123</th>\n",
       "      <td>1000505</td>\n",
       "      <td>215.55</td>\n",
       "      <td>2148.21</td>\n",
       "      <td>2017-01-22 10:46:09</td>\n",
       "      <td>0.845294</td>\n",
       "      <td>0</td>\n",
       "      <td>0</td>\n",
       "      <td>0</td>\n",
       "    </tr>\n",
       "  </tbody>\n",
       "</table>\n",
       "</div>"
      ],
      "text/plain": [
       "        vehicle_id  eng_load      rpm            datetime  torque_utilization  \\\n",
       "8111126    1000505    218.35  2141.09 2017-01-22 10:46:12            0.856275   \n",
       "8111122    1000505    212.48  2143.20 2017-01-22 10:46:08            0.833255   \n",
       "8111125    1000505    204.92  2141.11 2017-01-22 10:46:11            0.803608   \n",
       "8111124    1000505    210.39  2142.20 2017-01-22 10:46:10            0.825059   \n",
       "8111123    1000505    215.55  2148.21 2017-01-22 10:46:09            0.845294   \n",
       "\n",
       "         max_torque  max_hp  max_hp_rpm  \n",
       "8111126           0       0           0  \n",
       "8111122           0       0           0  \n",
       "8111125           0       0           0  \n",
       "8111124           0       0           0  \n",
       "8111123           0       0           0  "
      ]
     },
     "execution_count": 133,
     "metadata": {},
     "output_type": "execute_result"
    }
   ],
   "source": [
    "engine_without.head()"
   ]
  },
  {
   "cell_type": "code",
   "execution_count": 136,
   "metadata": {},
   "outputs": [
    {
     "data": {
      "text/html": [
       "<div>\n",
       "<style scoped>\n",
       "    .dataframe tbody tr th:only-of-type {\n",
       "        vertical-align: middle;\n",
       "    }\n",
       "\n",
       "    .dataframe tbody tr th {\n",
       "        vertical-align: top;\n",
       "    }\n",
       "\n",
       "    .dataframe thead th {\n",
       "        text-align: right;\n",
       "    }\n",
       "</style>\n",
       "<table border=\"1\" class=\"dataframe\">\n",
       "  <thead>\n",
       "    <tr style=\"text-align: right;\">\n",
       "      <th></th>\n",
       "      <th>vehicle_id</th>\n",
       "      <th>eng_load</th>\n",
       "      <th>rpm</th>\n",
       "      <th>datetime</th>\n",
       "      <th>torque_utilization</th>\n",
       "      <th>max_torque</th>\n",
       "      <th>max_hp</th>\n",
       "      <th>max_hp_rpm</th>\n",
       "      <th>active_hp</th>\n",
       "    </tr>\n",
       "  </thead>\n",
       "  <tbody>\n",
       "    <tr>\n",
       "      <th>3785942</th>\n",
       "      <td>1000500</td>\n",
       "      <td>194.21</td>\n",
       "      <td>2105.21</td>\n",
       "      <td>2017-01-06 14:09:53</td>\n",
       "      <td>0.761608</td>\n",
       "      <td>174</td>\n",
       "      <td>140</td>\n",
       "      <td>6500</td>\n",
       "      <td>53.119180</td>\n",
       "    </tr>\n",
       "    <tr>\n",
       "      <th>396088</th>\n",
       "      <td>1000500</td>\n",
       "      <td>199.97</td>\n",
       "      <td>1976.16</td>\n",
       "      <td>2017-01-06 15:22:33</td>\n",
       "      <td>0.784196</td>\n",
       "      <td>174</td>\n",
       "      <td>140</td>\n",
       "      <td>6500</td>\n",
       "      <td>51.341825</td>\n",
       "    </tr>\n",
       "    <tr>\n",
       "      <th>396087</th>\n",
       "      <td>1000500</td>\n",
       "      <td>205.29</td>\n",
       "      <td>1974.85</td>\n",
       "      <td>2017-01-06 15:22:32</td>\n",
       "      <td>0.805059</td>\n",
       "      <td>174</td>\n",
       "      <td>140</td>\n",
       "      <td>6500</td>\n",
       "      <td>52.672782</td>\n",
       "    </tr>\n",
       "    <tr>\n",
       "      <th>396086</th>\n",
       "      <td>1000500</td>\n",
       "      <td>193.45</td>\n",
       "      <td>1976.65</td>\n",
       "      <td>2017-01-06 15:22:31</td>\n",
       "      <td>0.758627</td>\n",
       "      <td>174</td>\n",
       "      <td>140</td>\n",
       "      <td>6500</td>\n",
       "      <td>49.680146</td>\n",
       "    </tr>\n",
       "    <tr>\n",
       "      <th>396085</th>\n",
       "      <td>1000500</td>\n",
       "      <td>210.08</td>\n",
       "      <td>1976.78</td>\n",
       "      <td>2017-01-06 15:22:30</td>\n",
       "      <td>0.823843</td>\n",
       "      <td>174</td>\n",
       "      <td>140</td>\n",
       "      <td>6500</td>\n",
       "      <td>53.954466</td>\n",
       "    </tr>\n",
       "  </tbody>\n",
       "</table>\n",
       "</div>"
      ],
      "text/plain": [
       "        vehicle_id  eng_load      rpm            datetime  torque_utilization  \\\n",
       "3785942    1000500    194.21  2105.21 2017-01-06 14:09:53            0.761608   \n",
       "396088     1000500    199.97  1976.16 2017-01-06 15:22:33            0.784196   \n",
       "396087     1000500    205.29  1974.85 2017-01-06 15:22:32            0.805059   \n",
       "396086     1000500    193.45  1976.65 2017-01-06 15:22:31            0.758627   \n",
       "396085     1000500    210.08  1976.78 2017-01-06 15:22:30            0.823843   \n",
       "\n",
       "         max_torque  max_hp  max_hp_rpm  active_hp  \n",
       "3785942         174     140        6500  53.119180  \n",
       "396088          174     140        6500  51.341825  \n",
       "396087          174     140        6500  52.672782  \n",
       "396086          174     140        6500  49.680146  \n",
       "396085          174     140        6500  53.954466  "
      ]
     },
     "execution_count": 136,
     "metadata": {},
     "output_type": "execute_result"
    }
   ],
   "source": [
    "engine_with.head()"
   ]
  },
  {
   "cell_type": "code",
   "execution_count": 135,
   "metadata": {},
   "outputs": [
    {
     "name": "stderr",
     "output_type": "stream",
     "text": [
      "C:\\Users\\11147\\AppData\\Local\\Continuum\\anaconda3\\lib\\site-packages\\ipykernel_launcher.py:1: SettingWithCopyWarning: \n",
      "A value is trying to be set on a copy of a slice from a DataFrame.\n",
      "Try using .loc[row_indexer,col_indexer] = value instead\n",
      "\n",
      "See the caveats in the documentation: http://pandas.pydata.org/pandas-docs/stable/indexing.html#indexing-view-versus-copy\n",
      "  \"\"\"Entry point for launching an IPython kernel.\n"
     ]
    }
   ],
   "source": [
    "engine_with[\"active_hp\"]=engine_with[\"eng_load\"]/255 * engine_with[\"max_torque\"] * engine_with[\"rpm\"] / 5252"
   ]
  },
  {
   "cell_type": "code",
   "execution_count": 137,
   "metadata": {},
   "outputs": [
    {
     "name": "stderr",
     "output_type": "stream",
     "text": [
      "C:\\Users\\11147\\AppData\\Local\\Continuum\\anaconda3\\lib\\site-packages\\ipykernel_launcher.py:1: SettingWithCopyWarning: \n",
      "A value is trying to be set on a copy of a slice from a DataFrame.\n",
      "Try using .loc[row_indexer,col_indexer] = value instead\n",
      "\n",
      "See the caveats in the documentation: http://pandas.pydata.org/pandas-docs/stable/indexing.html#indexing-view-versus-copy\n",
      "  \"\"\"Entry point for launching an IPython kernel.\n"
     ]
    }
   ],
   "source": [
    "engine_with[\"hp_utl\"]=engine_with[\"active_hp\"] / engine_with[\"max_hp\"]"
   ]
  },
  {
   "cell_type": "code",
   "execution_count": 138,
   "metadata": {},
   "outputs": [
    {
     "name": "stderr",
     "output_type": "stream",
     "text": [
      "C:\\Users\\11147\\AppData\\Local\\Continuum\\anaconda3\\lib\\site-packages\\ipykernel_launcher.py:1: SettingWithCopyWarning: \n",
      "A value is trying to be set on a copy of a slice from a DataFrame.\n",
      "Try using .loc[row_indexer,col_indexer] = value instead\n",
      "\n",
      "See the caveats in the documentation: http://pandas.pydata.org/pandas-docs/stable/indexing.html#indexing-view-versus-copy\n",
      "  \"\"\"Entry point for launching an IPython kernel.\n"
     ]
    }
   ],
   "source": [
    "engine_with[\"tor_utl\"]=engine_with[\"eng_load\"]/255"
   ]
  },
  {
   "cell_type": "code",
   "execution_count": 139,
   "metadata": {},
   "outputs": [
    {
     "name": "stderr",
     "output_type": "stream",
     "text": [
      "C:\\Users\\11147\\AppData\\Local\\Continuum\\anaconda3\\lib\\site-packages\\ipykernel_launcher.py:1: SettingWithCopyWarning: \n",
      "A value is trying to be set on a copy of a slice from a DataFrame.\n",
      "Try using .loc[row_indexer,col_indexer] = value instead\n",
      "\n",
      "See the caveats in the documentation: http://pandas.pydata.org/pandas-docs/stable/indexing.html#indexing-view-versus-copy\n",
      "  \"\"\"Entry point for launching an IPython kernel.\n"
     ]
    }
   ],
   "source": [
    "engine_with[\"rpm_uti\"]=engine_with[\"rpm\"]/engine_with[\"max_hp_rpm\"]"
   ]
  },
  {
   "cell_type": "code",
   "execution_count": 140,
   "metadata": {},
   "outputs": [
    {
     "name": "stderr",
     "output_type": "stream",
     "text": [
      "C:\\Users\\11147\\AppData\\Local\\Continuum\\anaconda3\\lib\\site-packages\\ipykernel_launcher.py:1: SettingWithCopyWarning: \n",
      "A value is trying to be set on a copy of a slice from a DataFrame.\n",
      "Try using .loc[row_indexer,col_indexer] = value instead\n",
      "\n",
      "See the caveats in the documentation: http://pandas.pydata.org/pandas-docs/stable/indexing.html#indexing-view-versus-copy\n",
      "  \"\"\"Entry point for launching an IPython kernel.\n"
     ]
    }
   ],
   "source": [
    "engine_without[\"active_hp\"]=0"
   ]
  },
  {
   "cell_type": "code",
   "execution_count": 141,
   "metadata": {},
   "outputs": [
    {
     "name": "stderr",
     "output_type": "stream",
     "text": [
      "C:\\Users\\11147\\AppData\\Local\\Continuum\\anaconda3\\lib\\site-packages\\ipykernel_launcher.py:1: SettingWithCopyWarning: \n",
      "A value is trying to be set on a copy of a slice from a DataFrame.\n",
      "Try using .loc[row_indexer,col_indexer] = value instead\n",
      "\n",
      "See the caveats in the documentation: http://pandas.pydata.org/pandas-docs/stable/indexing.html#indexing-view-versus-copy\n",
      "  \"\"\"Entry point for launching an IPython kernel.\n"
     ]
    }
   ],
   "source": [
    "engine_without[\"hp_utl\"]=0"
   ]
  },
  {
   "cell_type": "code",
   "execution_count": 142,
   "metadata": {},
   "outputs": [
    {
     "name": "stderr",
     "output_type": "stream",
     "text": [
      "C:\\Users\\11147\\AppData\\Local\\Continuum\\anaconda3\\lib\\site-packages\\ipykernel_launcher.py:1: SettingWithCopyWarning: \n",
      "A value is trying to be set on a copy of a slice from a DataFrame.\n",
      "Try using .loc[row_indexer,col_indexer] = value instead\n",
      "\n",
      "See the caveats in the documentation: http://pandas.pydata.org/pandas-docs/stable/indexing.html#indexing-view-versus-copy\n",
      "  \"\"\"Entry point for launching an IPython kernel.\n"
     ]
    }
   ],
   "source": [
    "engine_without[\"tor_utl\"]=engine_without[\"eng_load\"]/255"
   ]
  },
  {
   "cell_type": "code",
   "execution_count": 143,
   "metadata": {},
   "outputs": [
    {
     "name": "stderr",
     "output_type": "stream",
     "text": [
      "C:\\Users\\11147\\AppData\\Local\\Continuum\\anaconda3\\lib\\site-packages\\ipykernel_launcher.py:1: SettingWithCopyWarning: \n",
      "A value is trying to be set on a copy of a slice from a DataFrame.\n",
      "Try using .loc[row_indexer,col_indexer] = value instead\n",
      "\n",
      "See the caveats in the documentation: http://pandas.pydata.org/pandas-docs/stable/indexing.html#indexing-view-versus-copy\n",
      "  \"\"\"Entry point for launching an IPython kernel.\n"
     ]
    }
   ],
   "source": [
    "engine_without[\"rpm_uti\"]=0"
   ]
  },
  {
   "cell_type": "code",
   "execution_count": 144,
   "metadata": {},
   "outputs": [
    {
     "data": {
      "text/plain": [
       "(3289653, 12)"
      ]
     },
     "execution_count": 144,
     "metadata": {},
     "output_type": "execute_result"
    }
   ],
   "source": [
    "engine_with.shape"
   ]
  },
  {
   "cell_type": "code",
   "execution_count": 145,
   "metadata": {},
   "outputs": [
    {
     "data": {
      "text/plain": [
       "(5927875, 12)"
      ]
     },
     "execution_count": 145,
     "metadata": {},
     "output_type": "execute_result"
    }
   ],
   "source": [
    "engine_without.shape"
   ]
  },
  {
   "cell_type": "code",
   "execution_count": 146,
   "metadata": {},
   "outputs": [],
   "source": [
    "new_engine=pd.concat([engine_with,engine_without],ignore_index=True)"
   ]
  },
  {
   "cell_type": "code",
   "execution_count": 147,
   "metadata": {},
   "outputs": [],
   "source": [
    "pickle_out = open(\"engine.pickle\",\"wb\")\n",
    "pickle.dump(new_engine, pickle_out)\n",
    "pickle_out.close()"
   ]
  },
  {
   "cell_type": "code",
   "execution_count": 148,
   "metadata": {},
   "outputs": [],
   "source": [
    "pickle_in = open(\"engine.pickle\",\"rb\")\n",
    "new_engine = pickle.load(pickle_in)"
   ]
  },
  {
   "cell_type": "code",
   "execution_count": 149,
   "metadata": {},
   "outputs": [],
   "source": [
    "new_engine=new_engine.sort_values([\"vehicle_id\",\"datetime\"])"
   ]
  },
  {
   "cell_type": "code",
   "execution_count": 114,
   "metadata": {},
   "outputs": [],
   "source": [
    "target_df_engine=pd.DataFrame(columns=[\"a\"])\n",
    "ids=[]\n",
    "t_60=[]\n",
    "t_70=[]\n",
    "t_80=[]\n",
    "t_90=[]\n",
    "h_50=[]\n",
    "h_60=[]\n",
    "h_70=[]\n",
    "h_80=[]\n",
    "rpm_50=[]\n",
    "rpm_60=[]\n",
    "\n",
    "\n",
    "for i in new_engine.vehicle_id.unique().tolist():\n",
    "    ids.append(i)\n",
    "    a=new_engine[new_engine.vehicle_id==i]\n",
    "    t_60.append(len(a[(a.tor_utl>=0.60) & (a.tor_utl<0.7)]))\n",
    "    t_70.append(len(a[(a.tor_utl>=0.70) & (a.tor_utl<0.8)]))\n",
    "    t_80.append(len(a[(a.tor_utl>=0.80) & (a.tor_utl<0.9)]))\n",
    "    t_90.append(len(a[(a.tor_utl>=0.90) & (a.tor_utl<1)]))\n",
    "    h_50.append(len(a[(a.hp_utl>=0.50) & (a.hp_utl<0.6)]))\n",
    "    h_60.append(len(a[(a.hp_utl>=0.60) & (a.hp_utl<0.7)]))\n",
    "    h_70.append(len(a[(a.hp_utl>=0.70) & (a.hp_utl<0.8)]))\n",
    "    h_80.append(len(a[(a.hp_utl>=0.80) & (a.hp_utl<0.9)]))\n",
    "    rpm_50.append(len(a[(a.rpm_uti>=0.50) & (a.rpm_uti<0.60)]))\n",
    "    rpm_60.append(len(a[(a.rpm_uti>=0.60) & (a.rpm_uti<0.70)]))"
   ]
  },
  {
   "cell_type": "code",
   "execution_count": 115,
   "metadata": {},
   "outputs": [],
   "source": [
    "target_df_engine[\"vehicle_id\"]=ids\n",
    "target_df_engine[\"ft_torque_util_60pct_s\"]=t_60\n",
    "target_df_engine[\"ft_torque_util_70pct_s\"]=t_70\n",
    "target_df_engine[\"ft_torque_util_80pct_s\"]=t_80\n",
    "target_df_engine[\"ft_torque_util_90pct_s\"]=t_90\n",
    "target_df_engine[\"ft_horsepower_util_50pct_s\"]=h_50\n",
    "target_df_engine[\"ft_horsepower_util_60pct_s\"]=h_60\n",
    "target_df_engine[\"ft_horsepower_util_70pct_s\"]=h_70\n",
    "target_df_engine[\"ft_horsepower_util_80pct_s\"]=h_80\n",
    "target_df_engine[\"ft_rpm_util_50pct_s\"]=rpm_50\n",
    "target_df_engine[\"ft_rpm_util_60pct_s\"]=rpm_60\n",
    "\n",
    "target_df_engine.drop(\"a\",axis=1,inplace=True)"
   ]
  },
  {
   "cell_type": "code",
   "execution_count": 185,
   "metadata": {},
   "outputs": [],
   "source": [
    "a=new_engine.groupby([\"vehicle_id\",pd.Grouper(key='datetime', freq='W-MON')]).apply(lambda df : df[(df.tor_utl>0.6) & (df.tor_utl<0.7)][\"rpm_uti\"].count()).reset_index()\n",
    "b=new_engine.groupby([\"vehicle_id\",pd.Grouper(key='datetime', freq='W-MON')]).apply(lambda df : df[(df.tor_utl>0.7) & (df.tor_utl<0.8)][\"rpm_uti\"].count()).reset_index()\n",
    "c=new_engine.groupby([\"vehicle_id\",pd.Grouper(key='datetime', freq='W-MON')]).apply(lambda df : df[(df.tor_utl>0.8) & (df.tor_utl<0.9)][\"rpm_uti\"].count()).reset_index()\n",
    "d=new_engine.groupby([\"vehicle_id\",pd.Grouper(key='datetime', freq='W-MON')]).apply(lambda df : df[(df.tor_utl>0.9) & (df.tor_utl<1.0)][\"rpm_uti\"].count()).reset_index()"
   ]
  },
  {
   "cell_type": "code",
   "execution_count": 199,
   "metadata": {},
   "outputs": [],
   "source": [
    "a.rename(columns={0:\"ft_torque_util_60pct_s\"},inplace=True)\n",
    "a[\"ft_torque_util_70pct_s\"]=b[0]\n",
    "a[\"ft_torque_util_80pct_s\"]=c[0]\n",
    "a[\"ft_torque_util_90pct_s\"]=d[0]"
   ]
  },
  {
   "cell_type": "code",
   "execution_count": 202,
   "metadata": {},
   "outputs": [],
   "source": [
    "e=new_engine.groupby([\"vehicle_id\",pd.Grouper(key='datetime', freq='W-MON')]).apply(lambda df : df[(df.hp_utl>0.5) & (df.hp_utl<0.6)][\"rpm_uti\"].count()).reset_index()\n",
    "f=new_engine.groupby([\"vehicle_id\",pd.Grouper(key='datetime', freq='W-MON')]).apply(lambda df : df[(df.hp_utl>0.6) & (df.hp_utl<0.7)][\"rpm_uti\"].count()).reset_index()\n",
    "g=new_engine.groupby([\"vehicle_id\",pd.Grouper(key='datetime', freq='W-MON')]).apply(lambda df : df[(df.hp_utl>0.7) & (df.hp_utl<0.8)][\"rpm_uti\"].count()).reset_index()\n",
    "h=new_engine.groupby([\"vehicle_id\",pd.Grouper(key='datetime', freq='W-MON')]).apply(lambda df : df[(df.hp_utl>0.8) & (df.hp_utl<0.9)][\"rpm_uti\"].count()).reset_index()"
   ]
  },
  {
   "cell_type": "code",
   "execution_count": 205,
   "metadata": {},
   "outputs": [],
   "source": [
    "a[\"ft_horsepower_util_50pct_s\"]=e[0]\n",
    "a[\"ft_horsepower_util_60pct_s\"]=f[0]\n",
    "a[\"ft_horsepower_util_70pct_s\"]=g[0]\n",
    "a[\"ft_horsepower_util_80pct_s\"]=h[0]"
   ]
  },
  {
   "cell_type": "code",
   "execution_count": 209,
   "metadata": {},
   "outputs": [],
   "source": [
    "i=new_engine.groupby([\"vehicle_id\",pd.Grouper(key='datetime', freq='W-MON')]).apply(lambda df : df[(df.rpm_uti>0.5) & (df.rpm_uti<0.6)][\"active_hp\"].count()).reset_index()\n",
    "j=new_engine.groupby([\"vehicle_id\",pd.Grouper(key='datetime', freq='W-MON')]).apply(lambda df : df[(df.rpm_uti>0.6) & (df.rpm_uti<0.7)][\"active_hp\"].count()).reset_index()"
   ]
  },
  {
   "cell_type": "code",
   "execution_count": 210,
   "metadata": {},
   "outputs": [],
   "source": [
    "a[\"ft_rpm_util_50pct_s\"]=i[0]\n",
    "a[\"ft_rpm_util_60pct_s\"]=j[0]"
   ]
  },
  {
   "cell_type": "code",
   "execution_count": 212,
   "metadata": {},
   "outputs": [],
   "source": [
    "a.rename(columns={\"datetime\":\"week_start_date\"},inplace=True)"
   ]
  },
  {
   "cell_type": "code",
   "execution_count": 214,
   "metadata": {},
   "outputs": [],
   "source": [
    "a.to_csv(\"engine_features.csv\",index=False)"
   ]
  },
  {
   "cell_type": "code",
   "execution_count": null,
   "metadata": {},
   "outputs": [],
   "source": []
  }
 ],
 "metadata": {
  "kernelspec": {
   "display_name": "Python 3",
   "language": "python",
   "name": "python3"
  },
  "language_info": {
   "codemirror_mode": {
    "name": "ipython",
    "version": 3
   },
   "file_extension": ".py",
   "mimetype": "text/x-python",
   "name": "python",
   "nbconvert_exporter": "python",
   "pygments_lexer": "ipython3",
   "version": "3.7.3"
  }
 },
 "nbformat": 4,
 "nbformat_minor": 2
}
