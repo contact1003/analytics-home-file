{
 "cells": [
  {
   "cell_type": "code",
   "execution_count": 1,
   "metadata": {},
   "outputs": [],
   "source": [
    "import pandas as pd\n",
    "import numpy as np\n",
    "import matplotlib.pyplot as plt\n",
    "%matplotlib inline\n",
    "import seaborn as sns\n",
    "import os\n",
    "import pickle"
   ]
  },
  {
   "cell_type": "code",
   "execution_count": 3,
   "metadata": {},
   "outputs": [],
   "source": [
    "path=\"C:\\\\Users\\\\Lenovo\\\\Desktop\\\\Sanket_backup\\\\Mhack\\\\\""
   ]
  },
  {
   "cell_type": "code",
   "execution_count": 4,
   "metadata": {},
   "outputs": [],
   "source": [
    "df=pd.read_parquet(r\"C:\\Users\\Lenovo\\Desktop\\Sanket_backup\\Mhack\\drive\\drive_1557398801351_trip_1557398302922_part-00000-tid-4787120893022696848-4897608f-5b93-42b5-a8ab-e90f5cadf0bf-1853-c000.snappy.parquet\",engine=\"pyarrow\")"
   ]
  },
  {
   "cell_type": "code",
   "execution_count": 5,
   "metadata": {},
   "outputs": [
    {
     "data": {
      "text/plain": [
       "12"
      ]
     },
     "execution_count": 5,
     "metadata": {},
     "output_type": "execute_result"
    }
   ],
   "source": [
    "len(df.columns.tolist())"
   ]
  },
  {
   "cell_type": "code",
   "execution_count": 6,
   "metadata": {},
   "outputs": [
    {
     "data": {
      "text/plain": [
       "['vehicle_id',\n",
       " 'trip_id',\n",
       " 'datetime',\n",
       " 'velocity',\n",
       " 'accel_x',\n",
       " 'accel_y',\n",
       " 'accel_z',\n",
       " 'engine_coolant_temp',\n",
       " 'eng_load',\n",
       " 'fuel_level',\n",
       " 'iat',\n",
       " 'rpm']"
      ]
     },
     "execution_count": 6,
     "metadata": {},
     "output_type": "execute_result"
    }
   ],
   "source": [
    "drive_col=df.columns.tolist()\n",
    "drive_col"
   ]
  },
  {
   "cell_type": "code",
   "execution_count": 7,
   "metadata": {},
   "outputs": [],
   "source": [
    "df=pd.read_parquet(r\"C:\\Users\\Lenovo\\Desktop\\Sanket_backup\\Mhack\\trip\\trip_1557398259127_part-00000-tid-4787120893022696848-4897608f-5b93-42b5-a8ab-e90f5cadf0bf-1853-c000.snappy.parquet\",engine=\"pyarrow\")"
   ]
  },
  {
   "cell_type": "code",
   "execution_count": 8,
   "metadata": {},
   "outputs": [
    {
     "data": {
      "text/plain": [
       "6"
      ]
     },
     "execution_count": 8,
     "metadata": {},
     "output_type": "execute_result"
    }
   ],
   "source": [
    "len(df.columns.tolist())"
   ]
  },
  {
   "cell_type": "code",
   "execution_count": 9,
   "metadata": {},
   "outputs": [
    {
     "data": {
      "text/plain": [
       "['vehicle_id', 'trip_id', 'datetime', 'lat', 'long', 'velocity']"
      ]
     },
     "execution_count": 9,
     "metadata": {},
     "output_type": "execute_result"
    }
   ],
   "source": [
    "trip_col=df.columns.tolist()\n",
    "trip_col"
   ]
  },
  {
   "cell_type": "code",
   "execution_count": 10,
   "metadata": {},
   "outputs": [],
   "source": [
    "df_drive=pd.DataFrame(columns=drive_col)\n",
    "df_trip=pd.DataFrame(columns=trip_col)"
   ]
  },
  {
   "cell_type": "code",
   "execution_count": 11,
   "metadata": {},
   "outputs": [],
   "source": [
    "for j in os.listdir(path + \"drive\"):\n",
    "    df=pd.read_parquet(path+\"drive\"+ \"\\\\\" +str(j),engine=\"pyarrow\")\n",
    "    df_drive=pd.concat([df_drive,df],ignore_index=True)"
   ]
  },
  {
   "cell_type": "code",
   "execution_count": 12,
   "metadata": {},
   "outputs": [
    {
     "data": {
      "text/plain": [
       "(9217528, 12)"
      ]
     },
     "execution_count": 12,
     "metadata": {},
     "output_type": "execute_result"
    }
   ],
   "source": [
    "df_drive.shape"
   ]
  },
  {
   "cell_type": "code",
   "execution_count": 13,
   "metadata": {},
   "outputs": [],
   "source": [
    "for j in os.listdir(path + \"trip\"):\n",
    "    df=pd.read_parquet(path+\"trip\"+ \"\\\\\" +str(j),engine=\"pyarrow\")\n",
    "    df_trip=pd.concat([df_trip,df],ignore_index=True)"
   ]
  },
  {
   "cell_type": "code",
   "execution_count": 14,
   "metadata": {},
   "outputs": [
    {
     "data": {
      "text/plain": [
       "(9217528, 6)"
      ]
     },
     "execution_count": 14,
     "metadata": {},
     "output_type": "execute_result"
    }
   ],
   "source": [
    "df_trip.shape"
   ]
  },
  {
   "cell_type": "code",
   "execution_count": 15,
   "metadata": {},
   "outputs": [
    {
     "data": {
      "text/html": [
       "<div>\n",
       "<style scoped>\n",
       "    .dataframe tbody tr th:only-of-type {\n",
       "        vertical-align: middle;\n",
       "    }\n",
       "\n",
       "    .dataframe tbody tr th {\n",
       "        vertical-align: top;\n",
       "    }\n",
       "\n",
       "    .dataframe thead th {\n",
       "        text-align: right;\n",
       "    }\n",
       "</style>\n",
       "<table border=\"1\" class=\"dataframe\">\n",
       "  <thead>\n",
       "    <tr style=\"text-align: right;\">\n",
       "      <th></th>\n",
       "      <th>vehicle_id</th>\n",
       "      <th>trip_id</th>\n",
       "      <th>datetime</th>\n",
       "      <th>velocity</th>\n",
       "      <th>accel_x</th>\n",
       "      <th>accel_y</th>\n",
       "      <th>accel_z</th>\n",
       "      <th>engine_coolant_temp</th>\n",
       "      <th>eng_load</th>\n",
       "      <th>fuel_level</th>\n",
       "      <th>iat</th>\n",
       "      <th>rpm</th>\n",
       "    </tr>\n",
       "  </thead>\n",
       "  <tbody>\n",
       "    <tr>\n",
       "      <th>0</th>\n",
       "      <td>1000515</td>\n",
       "      <td>db3c08b01205459294bbc91e3f7dfeb6</td>\n",
       "      <td>2017-01-06 23:00:00</td>\n",
       "      <td>0.00</td>\n",
       "      <td>50.0</td>\n",
       "      <td>65.13</td>\n",
       "      <td>87.92</td>\n",
       "      <td>150.70</td>\n",
       "      <td>192.88</td>\n",
       "      <td>118.66</td>\n",
       "      <td>95.0</td>\n",
       "      <td>2107.44</td>\n",
       "    </tr>\n",
       "    <tr>\n",
       "      <th>1</th>\n",
       "      <td>1000515</td>\n",
       "      <td>db3c08b01205459294bbc91e3f7dfeb6</td>\n",
       "      <td>2017-01-06 23:00:01</td>\n",
       "      <td>47.49</td>\n",
       "      <td>51.0</td>\n",
       "      <td>72.34</td>\n",
       "      <td>83.78</td>\n",
       "      <td>154.76</td>\n",
       "      <td>196.04</td>\n",
       "      <td>116.69</td>\n",
       "      <td>100.0</td>\n",
       "      <td>2119.17</td>\n",
       "    </tr>\n",
       "    <tr>\n",
       "      <th>2</th>\n",
       "      <td>1000515</td>\n",
       "      <td>db3c08b01205459294bbc91e3f7dfeb6</td>\n",
       "      <td>2017-01-06 23:00:02</td>\n",
       "      <td>57.94</td>\n",
       "      <td>50.0</td>\n",
       "      <td>69.20</td>\n",
       "      <td>87.73</td>\n",
       "      <td>165.50</td>\n",
       "      <td>196.01</td>\n",
       "      <td>105.46</td>\n",
       "      <td>90.0</td>\n",
       "      <td>2112.32</td>\n",
       "    </tr>\n",
       "    <tr>\n",
       "      <th>3</th>\n",
       "      <td>1000515</td>\n",
       "      <td>db3c08b01205459294bbc91e3f7dfeb6</td>\n",
       "      <td>2017-01-06 23:00:03</td>\n",
       "      <td>57.50</td>\n",
       "      <td>48.0</td>\n",
       "      <td>70.83</td>\n",
       "      <td>84.95</td>\n",
       "      <td>157.32</td>\n",
       "      <td>193.31</td>\n",
       "      <td>110.35</td>\n",
       "      <td>90.0</td>\n",
       "      <td>2092.94</td>\n",
       "    </tr>\n",
       "    <tr>\n",
       "      <th>4</th>\n",
       "      <td>1000515</td>\n",
       "      <td>db3c08b01205459294bbc91e3f7dfeb6</td>\n",
       "      <td>2017-01-06 23:00:04</td>\n",
       "      <td>52.29</td>\n",
       "      <td>47.0</td>\n",
       "      <td>70.22</td>\n",
       "      <td>92.90</td>\n",
       "      <td>151.00</td>\n",
       "      <td>189.49</td>\n",
       "      <td>104.25</td>\n",
       "      <td>97.0</td>\n",
       "      <td>2117.87</td>\n",
       "    </tr>\n",
       "  </tbody>\n",
       "</table>\n",
       "</div>"
      ],
      "text/plain": [
       "  vehicle_id                           trip_id            datetime  velocity  \\\n",
       "0    1000515  db3c08b01205459294bbc91e3f7dfeb6 2017-01-06 23:00:00      0.00   \n",
       "1    1000515  db3c08b01205459294bbc91e3f7dfeb6 2017-01-06 23:00:01     47.49   \n",
       "2    1000515  db3c08b01205459294bbc91e3f7dfeb6 2017-01-06 23:00:02     57.94   \n",
       "3    1000515  db3c08b01205459294bbc91e3f7dfeb6 2017-01-06 23:00:03     57.50   \n",
       "4    1000515  db3c08b01205459294bbc91e3f7dfeb6 2017-01-06 23:00:04     52.29   \n",
       "\n",
       "   accel_x  accel_y  accel_z  engine_coolant_temp  eng_load  fuel_level  \\\n",
       "0     50.0    65.13    87.92               150.70    192.88      118.66   \n",
       "1     51.0    72.34    83.78               154.76    196.04      116.69   \n",
       "2     50.0    69.20    87.73               165.50    196.01      105.46   \n",
       "3     48.0    70.83    84.95               157.32    193.31      110.35   \n",
       "4     47.0    70.22    92.90               151.00    189.49      104.25   \n",
       "\n",
       "     iat      rpm  \n",
       "0   95.0  2107.44  \n",
       "1  100.0  2119.17  \n",
       "2   90.0  2112.32  \n",
       "3   90.0  2092.94  \n",
       "4   97.0  2117.87  "
      ]
     },
     "execution_count": 15,
     "metadata": {},
     "output_type": "execute_result"
    }
   ],
   "source": [
    "df_drive.head()"
   ]
  },
  {
   "cell_type": "code",
   "execution_count": 16,
   "metadata": {},
   "outputs": [
    {
     "data": {
      "text/html": [
       "<div>\n",
       "<style scoped>\n",
       "    .dataframe tbody tr th:only-of-type {\n",
       "        vertical-align: middle;\n",
       "    }\n",
       "\n",
       "    .dataframe tbody tr th {\n",
       "        vertical-align: top;\n",
       "    }\n",
       "\n",
       "    .dataframe thead th {\n",
       "        text-align: right;\n",
       "    }\n",
       "</style>\n",
       "<table border=\"1\" class=\"dataframe\">\n",
       "  <thead>\n",
       "    <tr style=\"text-align: right;\">\n",
       "      <th></th>\n",
       "      <th>vehicle_id</th>\n",
       "      <th>trip_id</th>\n",
       "      <th>datetime</th>\n",
       "      <th>lat</th>\n",
       "      <th>long</th>\n",
       "      <th>velocity</th>\n",
       "    </tr>\n",
       "  </thead>\n",
       "  <tbody>\n",
       "    <tr>\n",
       "      <th>0</th>\n",
       "      <td>1000504</td>\n",
       "      <td>192637d8a8a841dd85942a5ada12c50a</td>\n",
       "      <td>2017-01-02 21:00:00</td>\n",
       "      <td>32.3125</td>\n",
       "      <td>-85.062500</td>\n",
       "      <td>0.00</td>\n",
       "    </tr>\n",
       "    <tr>\n",
       "      <th>1</th>\n",
       "      <td>1000504</td>\n",
       "      <td>192637d8a8a841dd85942a5ada12c50a</td>\n",
       "      <td>2017-01-02 21:00:01</td>\n",
       "      <td>32.3125</td>\n",
       "      <td>-85.062222</td>\n",
       "      <td>59.88</td>\n",
       "    </tr>\n",
       "    <tr>\n",
       "      <th>2</th>\n",
       "      <td>1000504</td>\n",
       "      <td>192637d8a8a841dd85942a5ada12c50a</td>\n",
       "      <td>2017-01-02 21:00:02</td>\n",
       "      <td>32.3125</td>\n",
       "      <td>-85.061944</td>\n",
       "      <td>76.93</td>\n",
       "    </tr>\n",
       "    <tr>\n",
       "      <th>3</th>\n",
       "      <td>1000504</td>\n",
       "      <td>192637d8a8a841dd85942a5ada12c50a</td>\n",
       "      <td>2017-01-02 21:00:03</td>\n",
       "      <td>32.3125</td>\n",
       "      <td>-85.061667</td>\n",
       "      <td>75.10</td>\n",
       "    </tr>\n",
       "    <tr>\n",
       "      <th>4</th>\n",
       "      <td>1000504</td>\n",
       "      <td>192637d8a8a841dd85942a5ada12c50a</td>\n",
       "      <td>2017-01-02 21:00:04</td>\n",
       "      <td>32.3125</td>\n",
       "      <td>-85.061389</td>\n",
       "      <td>48.01</td>\n",
       "    </tr>\n",
       "  </tbody>\n",
       "</table>\n",
       "</div>"
      ],
      "text/plain": [
       "  vehicle_id                           trip_id            datetime      lat  \\\n",
       "0    1000504  192637d8a8a841dd85942a5ada12c50a 2017-01-02 21:00:00  32.3125   \n",
       "1    1000504  192637d8a8a841dd85942a5ada12c50a 2017-01-02 21:00:01  32.3125   \n",
       "2    1000504  192637d8a8a841dd85942a5ada12c50a 2017-01-02 21:00:02  32.3125   \n",
       "3    1000504  192637d8a8a841dd85942a5ada12c50a 2017-01-02 21:00:03  32.3125   \n",
       "4    1000504  192637d8a8a841dd85942a5ada12c50a 2017-01-02 21:00:04  32.3125   \n",
       "\n",
       "        long  velocity  \n",
       "0 -85.062500      0.00  \n",
       "1 -85.062222     59.88  \n",
       "2 -85.061944     76.93  \n",
       "3 -85.061667     75.10  \n",
       "4 -85.061389     48.01  "
      ]
     },
     "execution_count": 16,
     "metadata": {},
     "output_type": "execute_result"
    }
   ],
   "source": [
    "df_trip.head()"
   ]
  },
  {
   "cell_type": "code",
   "execution_count": 68,
   "metadata": {},
   "outputs": [
    {
     "data": {
      "text/plain": [
       "vehicle_id             0\n",
       "trip_id                0\n",
       "datetime               0\n",
       "velocity               0\n",
       "accel_x                0\n",
       "accel_y                0\n",
       "accel_z                0\n",
       "engine_coolant_temp    0\n",
       "eng_load               0\n",
       "fuel_level             0\n",
       "iat                    0\n",
       "rpm                    0\n",
       "dtype: int64"
      ]
     },
     "execution_count": 68,
     "metadata": {},
     "output_type": "execute_result"
    }
   ],
   "source": [
    "df_drive.isnull().sum()"
   ]
  },
  {
   "cell_type": "code",
   "execution_count": 47,
   "metadata": {},
   "outputs": [
    {
     "data": {
      "text/plain": [
       "1000501    582422\n",
       "1000512    550954\n",
       "1000508    523892\n",
       "1000504    506860\n",
       "1000518    503369\n",
       "1000503    486321\n",
       "1000515    473589\n",
       "1000500    465277\n",
       "1000513    464508\n",
       "1000507    463529\n",
       "1000502    459641\n",
       "1000511    444609\n",
       "1000509    440346\n",
       "1000516    434958\n",
       "1000510    431362\n",
       "1000514    427853\n",
       "1000505    424486\n",
       "1000517    418277\n",
       "1000519    389672\n",
       "1000506    325603\n",
       "Name: vehicle_id, dtype: int64"
      ]
     },
     "execution_count": 47,
     "metadata": {},
     "output_type": "execute_result"
    }
   ],
   "source": [
    "df_drive.vehicle_id.value_counts()"
   ]
  },
  {
   "cell_type": "code",
   "execution_count": 23,
   "metadata": {},
   "outputs": [
    {
     "data": {
      "text/plain": [
       "20"
      ]
     },
     "execution_count": 23,
     "metadata": {},
     "output_type": "execute_result"
    }
   ],
   "source": [
    "len(df_trip.vehicle_id.value_counts())"
   ]
  },
  {
   "cell_type": "code",
   "execution_count": 25,
   "metadata": {},
   "outputs": [
    {
     "data": {
      "text/plain": [
       "1708"
      ]
     },
     "execution_count": 25,
     "metadata": {},
     "output_type": "execute_result"
    }
   ],
   "source": [
    "len(df_drive.trip_id.value_counts())"
   ]
  },
  {
   "cell_type": "code",
   "execution_count": 26,
   "metadata": {},
   "outputs": [
    {
     "data": {
      "text/plain": [
       "1708"
      ]
     },
     "execution_count": 26,
     "metadata": {},
     "output_type": "execute_result"
    }
   ],
   "source": [
    "len(df_trip.trip_id.value_counts())"
   ]
  },
  {
   "cell_type": "code",
   "execution_count": 57,
   "metadata": {},
   "outputs": [
    {
     "data": {
      "text/plain": [
       "vehicle_id\n",
       "1000500     82\n",
       "1000501    109\n",
       "1000502     85\n",
       "1000503     96\n",
       "1000504     99\n",
       "1000505     74\n",
       "1000506     68\n",
       "1000507     90\n",
       "1000508     87\n",
       "1000509     79\n",
       "1000510     81\n",
       "1000511     88\n",
       "1000512     95\n",
       "1000513     79\n",
       "1000514     79\n",
       "1000515     90\n",
       "1000516     78\n",
       "1000517     80\n",
       "1000518     88\n",
       "1000519     81\n",
       "Name: trip_id, dtype: int64"
      ]
     },
     "execution_count": 57,
     "metadata": {},
     "output_type": "execute_result"
    }
   ],
   "source": [
    "vehicle_trips"
   ]
  },
  {
   "cell_type": "code",
   "execution_count": 63,
   "metadata": {},
   "outputs": [],
   "source": [
    "vehicle_trips=df_drive.groupby([\"vehicle_id\"]).trip_id.nunique().reset_index()"
   ]
  },
  {
   "cell_type": "code",
   "execution_count": null,
   "metadata": {},
   "outputs": [],
   "source": []
  }
 ],
 "metadata": {
  "kernelspec": {
   "display_name": "Python 3",
   "language": "python",
   "name": "python3"
  },
  "language_info": {
   "codemirror_mode": {
    "name": "ipython",
    "version": 3
   },
   "file_extension": ".py",
   "mimetype": "text/x-python",
   "name": "python",
   "nbconvert_exporter": "python",
   "pygments_lexer": "ipython3",
   "version": "3.7.3"
  }
 },
 "nbformat": 4,
 "nbformat_minor": 2
}
